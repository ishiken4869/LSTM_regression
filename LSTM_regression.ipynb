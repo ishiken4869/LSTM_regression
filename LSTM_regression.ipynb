{
 "cells": [
  {
   "cell_type": "code",
   "execution_count": 67,
   "id": "f4e8431b-5b14-4ce0-8d52-8eece073a588",
   "metadata": {},
   "outputs": [],
   "source": [
    "MAX_EPOCHS = 300\n",
    "BATCH_SIZE = 128\n",
    "LEARNING_RATE = 0.001\n",
    "SMILES_COL = 'Column3'\n",
    "REGRESSION_COL = 'Column7'\n",
    "URL = '/home/ishii/graduation_research/data/csvファイル/dft_B3LYP_6-31G*_zinc_for-sale_1000000_0to100000.csv'\n"
   ]
  },
  {
   "cell_type": "code",
   "execution_count": 68,
   "id": "ca771bf3-36b2-4fec-836d-266ac0d51e60",
   "metadata": {
    "tags": []
   },
   "outputs": [],
   "source": [
    "#regression_col\n",
    "import torch\n",
    "import pandas as pd\n",
    "from collections import Counter\n",
    "\n",
    "class Dataset(torch.utils.data.Dataset):\n",
    "    def __init__(self, url, smiles_col, regression_col):\n",
    "        self.max_length = 0\n",
    "        self.dummy_char = '_'\n",
    "        \n",
    "        self.url = url\n",
    "        self.smiles_col = smiles_col\n",
    "        self.smiles = []\n",
    "        self.words = self.load_words()\n",
    "        self.uniq_words = self.get_uniq_words()\n",
    "        self.index_to_word = {index: word for index, word in enumerate(self.uniq_words)}\n",
    "        self.word_to_index = {word: index for index, word in enumerate(self.uniq_words)}\n",
    "        self.words_indexes = [self.word_to_index[w] for w in self.words]\n",
    "\n",
    "        self.regression_col = regression_col\n",
    "        self.regressions = []\n",
    "        self.items = self.generate_items()\n",
    "        \n",
    "        self.dummmy_index = self.word_to_index[self.dummy_char]\n",
    "\n",
    "    def load_words(self):\n",
    "        train_df = pd.read_csv(self.url, usecols=[SMILES_COL])\n",
    "        self.smiles = list(train_df[self.smiles_col])\n",
    "        for i, smile in enumerate(self.smiles):\n",
    "            new_smile = smile[1:]\n",
    "            self.smiles[i] = new_smile\n",
    "        self.max_length = max(len(smile) for smile in self.smiles)\n",
    "        self.smiles = list(smile.ljust(self.max_length, self.dummy_char) for smile in self.smiles)\n",
    "        train_df = pd.Series(self.smiles)\n",
    "        text = train_df.str.cat(sep=' ')\n",
    "        text = \"\".join(text.split(' '))\n",
    "        return [text[i] for i in range(len(text))]\n",
    "    \n",
    "    def generate_items(self):\n",
    "        train_df = pd.read_csv(self.url, usecols=[REGRESSION_COL])\n",
    "        self.regressions = list(train_df[self.regression_col])\n",
    "        items = []\n",
    "        for i, smile in enumerate(self.smiles):\n",
    "            smile = list(smile)\n",
    "            items.append([self.word_to_index[w] for w in smile])\n",
    "        return items\n",
    "\n",
    "    def get_uniq_words(self):\n",
    "        word_counts = Counter(self.words)\n",
    "        return sorted(word_counts, key=word_counts.get, reverse=True)\n",
    "\n",
    "    def __len__(self):\n",
    "        return len(self.regressions)\n",
    "\n",
    "    def __getitem__(self, index):\n",
    "        return (\n",
    "            torch.tensor(self.items[index]),\n",
    "            torch.tensor(self.regressions[index])\n",
    "        )"
   ]
  },
  {
   "cell_type": "code",
   "execution_count": 69,
   "id": "963eec5a-0677-478b-8f00-91974d4e7ab6",
   "metadata": {},
   "outputs": [],
   "source": [
    "#変更後のモデル\n",
    "import torch\n",
    "\n",
    "class LSTM_Predictor(torch.nn.Module):\n",
    "    def __init__(self, dataset):\n",
    "        super(LSTM_Predictor, self).__init__()\n",
    "        self.lstm_size = 128\n",
    "        self.embedding_dim = 128\n",
    "        self.num_layers = 3\n",
    "\n",
    "        n_vocab = len(dataset.uniq_words)\n",
    "        self.embedding = torch.nn.Embedding(\n",
    "            num_embeddings=n_vocab,\n",
    "            embedding_dim=self.embedding_dim,\n",
    "            #padding_idxの処理が不明確\n",
    "            #padding_idx=dataset.dummmy_index\n",
    "        )\n",
    "        self.lstm = torch.nn.LSTM(\n",
    "            input_size=self.lstm_size,\n",
    "            hidden_size=self.lstm_size,\n",
    "            num_layers=self.num_layers,\n",
    "            batch_first=True,\n",
    "            dropout=0.2,\n",
    "        )\n",
    "        self.fc = torch.nn.Linear(self.lstm_size, 1)\n",
    "\n",
    "    def forward(self, x, prev_state):\n",
    "        embed = self.embedding(x)\n",
    "        output, state = self.lstm(embed, prev_state)\n",
    "        logits = self.fc(output)\n",
    "\n",
    "        return logits, state\n",
    "\n",
    "    def init_state(self, batch_size):\n",
    "        return (torch.zeros(self.num_layers, batch_size, self.lstm_size),\n",
    "                torch.zeros(self.num_layers, batch_size, self.lstm_size))"
   ]
  },
  {
   "cell_type": "code",
   "execution_count": 70,
   "id": "fbc06434",
   "metadata": {},
   "outputs": [],
   "source": [
    "col_name = \"Decomposition_Energy\""
   ]
  },
  {
   "cell_type": "code",
   "execution_count": 71,
   "id": "05e043ef",
   "metadata": {},
   "outputs": [
    {
     "data": {
      "text/plain": [
       "True"
      ]
     },
     "execution_count": 71,
     "metadata": {},
     "output_type": "execute_result"
    }
   ],
   "source": [
    "# Log in to your W&B account\n",
    "import wandb\n",
    "wandb.login()"
   ]
  },
  {
   "cell_type": "code",
   "execution_count": 72,
   "id": "aee299af",
   "metadata": {},
   "outputs": [
    {
     "data": {
      "text/html": [
       "wandb version 0.13.7 is available!  To upgrade, please run:\n",
       " $ pip install wandb --upgrade"
      ],
      "text/plain": [
       "<IPython.core.display.HTML object>"
      ]
     },
     "metadata": {},
     "output_type": "display_data"
    },
    {
     "data": {
      "text/html": [
       "Tracking run with wandb version 0.13.5"
      ],
      "text/plain": [
       "<IPython.core.display.HTML object>"
      ]
     },
     "metadata": {},
     "output_type": "display_data"
    },
    {
     "data": {
      "text/html": [
       "Run data is saved locally in <code>/home/ishii/graduation_research/LSTM_regression/wandb/run-20230105_133826-p1ddwm0r</code>"
      ],
      "text/plain": [
       "<IPython.core.display.HTML object>"
      ]
     },
     "metadata": {},
     "output_type": "display_data"
    },
    {
     "data": {
      "text/html": [
       "Syncing run <strong><a href=\"https://wandb.ai/asidaka/LSTM%E3%81%AB%E3%82%88%E3%82%8BDecomposition_Energy%E3%81%AE%E4%BA%88%E6%B8%AC/runs/p1ddwm0r\" target=\"_blank\">LSTM</a></strong> to <a href=\"https://wandb.ai/asidaka/LSTM%E3%81%AB%E3%82%88%E3%82%8BDecomposition_Energy%E3%81%AE%E4%BA%88%E6%B8%AC\" target=\"_blank\">Weights & Biases</a> (<a href=\"https://wandb.me/run\" target=\"_blank\">docs</a>)<br/>"
      ],
      "text/plain": [
       "<IPython.core.display.HTML object>"
      ]
     },
     "metadata": {},
     "output_type": "display_data"
    },
    {
     "data": {
      "text/html": [
       "<button onClick=\"this.nextSibling.style.display='block';this.style.display='none';\">Display W&B run</button><iframe src=\"https://wandb.ai/asidaka/LSTM%E3%81%AB%E3%82%88%E3%82%8BDecomposition_Energy%E3%81%AE%E4%BA%88%E6%B8%AC/runs/p1ddwm0r?jupyter=true\" style=\"border:none;width:100%;height:420px;display:none;\"></iframe>"
      ],
      "text/plain": [
       "<wandb.sdk.wandb_run.Run at 0x7fed60944670>"
      ]
     },
     "execution_count": 72,
     "metadata": {},
     "output_type": "execute_result"
    }
   ],
   "source": [
    "wandb.init(\n",
    "    # Set the project where this run will be logged\n",
    "    project=\"LSTMによる\" + col_name + \"の予測\", \n",
    "    # We pass a run name (otherwise it’ll be randomly assigned, like sunshine-lollypop-10)\n",
    "    name=f\"LSTM\", \n",
    "    # Track hyperparameters and run metadata\n",
    "    config={\n",
    "    \"batch_size\": BATCH_SIZE,\n",
    "    \"learning_rate\": LEARNING_RATE,\n",
    "    \"architecture\": \"LSTM\",\n",
    "    \"data_path\": URL,\n",
    "    \"epochs\": MAX_EPOCHS,\n",
    "    \"lstm_size\": 128,\n",
    "    \"embedding_dim\": 128,\n",
    "    \"num_layers\": 3,\n",
    "    \"dropout\": 0.2,\n",
    "    })"
   ]
  },
  {
   "cell_type": "code",
   "execution_count": 73,
   "id": "2cfd0211-c662-47bc-a69c-f76ddb5031c7",
   "metadata": {},
   "outputs": [],
   "source": [
    "#変更後の訓練プロセス\n",
    "import torch\n",
    "import numpy as np\n",
    "\n",
    "def train(dataset, train_dataset, model):\n",
    "    losses = []\n",
    "    val_losses = []\n",
    "    device = torch.device('cuda:0' if torch.cuda.is_available() else 'cpu')\n",
    "\n",
    "    train_dataloader = torch.utils.data.DataLoader(train_dataset, batch_size=BATCH_SIZE, drop_last=True)\n",
    "\n",
    "    criterion = torch.nn.MSELoss()\n",
    "    optimizer = torch.optim.Adam(model.parameters(), lr=LEARNING_RATE)\n",
    "    \n",
    "    #scheduler = torch.optim.lr_scheduler.CosineAnnealingWarmRestarts(optimizer, T_0=10, T_mult=2)\n",
    "\n",
    "    for epoch in range(MAX_EPOCHS):\n",
    "        model.train()\n",
    "        \n",
    "        state_h, state_c = model.init_state(BATCH_SIZE)\n",
    "        state_h = state_h.to(device)\n",
    "        state_c = state_c.to(device)\n",
    "        total_loss = 0\n",
    "        total_val_loss = 0\n",
    "\n",
    "        for batch, (x, y) in enumerate(train_dataloader):\n",
    "            if batch < int(len(train_dataloader) * 0.75):\n",
    "                model.train()\n",
    "                \n",
    "                optimizer.zero_grad()\n",
    "                \n",
    "                y_pred, (state_h, state_c) = model(x.to(device), (state_h, state_c))\n",
    "                y_pred_permute = torch.permute(y_pred, (2, 1, 0))\n",
    "                loss = criterion(y_pred_permute[0][dataset.max_length-1], y.to(device))\n",
    "                total_loss += loss.item()\n",
    "\n",
    "                state_h = state_h.detach()\n",
    "                state_c = state_c.detach()\n",
    "\n",
    "                loss.backward()\n",
    "                optimizer.step()\n",
    "                \n",
    "            else:\n",
    "                model.eval()\n",
    "                \n",
    "                y_pred, (state_h, state_c) = model(x.to(device), (state_h, state_c))\n",
    "                y_pred_permute = torch.permute(y_pred, (2, 1, 0))\n",
    "                val_loss = criterion(y_pred_permute[0, dataset.max_length-1], y.to(device))\n",
    "                total_val_loss += val_loss.item()    \n",
    "                \n",
    "                state_h = state_h.detach()\n",
    "                state_c = state_c.detach()\n",
    "        \n",
    "        #scheduler.step()\n",
    "        \n",
    "        average_total_loss = total_loss / int(len(train_dataloader) * 0.75)\n",
    "        average_total_val_loss = total_val_loss / (len(train_dataloader) - int(len(train_dataloader) * 0.75))\n",
    "        \n",
    "        # 🐝 2️⃣ Log metrics from your script to W&B\n",
    "        wandb.log({\"train_Loss\": average_total_loss, \"val_Loss\": average_total_val_loss})\n",
    "\n",
    "        \n",
    "        print(\"Epoch: {}, train_Loss: {}, val_Loss: {}\".format(\n",
    "            epoch+1, \n",
    "            average_total_loss,\n",
    "            average_total_val_loss\n",
    "        ))\n",
    "        losses.append(average_total_loss)\n",
    "        val_losses.append(average_total_val_loss)\n",
    "    return losses, val_losses"
   ]
  },
  {
   "cell_type": "code",
   "execution_count": 74,
   "id": "a67f788d-627e-42a1-89e3-38510896c476",
   "metadata": {},
   "outputs": [
    {
     "name": "stdout",
     "output_type": "stream",
     "text": [
      "device: cuda:0\n",
      "\n"
     ]
    }
   ],
   "source": [
    "device = torch.device('cuda:0' if torch.cuda.is_available() else 'cpu')\n",
    "print(\"device: \" + str(device) + '\\n')\n"
   ]
  },
  {
   "cell_type": "code",
   "execution_count": 75,
   "id": "3b912c08",
   "metadata": {},
   "outputs": [
    {
     "name": "stdout",
     "output_type": "stream",
     "text": [
      "70102\n",
      "17526\n"
     ]
    }
   ],
   "source": [
    "dataset = Dataset(url=URL, smiles_col=SMILES_COL, regression_col=REGRESSION_COL)\n",
    "n_samples = len(dataset)\n",
    "indices = list(range(n_samples))\n",
    "train_size = int(n_samples * 0.8)\n",
    "test_size = n_samples - train_size\n",
    "\n",
    "train_dataset = torch.utils.data.Subset(dataset, indices[:train_size])\n",
    "test_dataset = torch.utils.data.Subset(dataset, indices[train_size:])\n",
    "\n",
    "print(len(train_dataset))\n",
    "print(len(test_dataset))\n"
   ]
  },
  {
   "cell_type": "code",
   "execution_count": 76,
   "id": "3d15e87d",
   "metadata": {},
   "outputs": [
    {
     "name": "stdout",
     "output_type": "stream",
     "text": [
      "410\n",
      "137\n"
     ]
    }
   ],
   "source": [
    "train_dataloader = torch.utils.data.DataLoader(train_dataset, batch_size=BATCH_SIZE, drop_last=True)\n",
    "print(int(len(train_dataloader) * 0.75))\n",
    "print(len(train_dataloader) - int(len(train_dataloader) * 0.75))"
   ]
  },
  {
   "cell_type": "code",
   "execution_count": 77,
   "id": "5b9ca541-5e56-4e0f-a42b-5c1b0ec0c701",
   "metadata": {},
   "outputs": [
    {
     "name": "stdout",
     "output_type": "stream",
     "text": [
      "Epoch: 1, train_Loss: 1.9578762156207388, val_Loss: 1.4640853896628332\n",
      "Epoch: 2, train_Loss: 1.6310799126218005, val_Loss: 1.4644024376451534\n",
      "Epoch: 3, train_Loss: 1.629756244944363, val_Loss: 1.4646450346403748\n",
      "Epoch: 4, train_Loss: 1.6265140754420584, val_Loss: 1.4647421440938964\n",
      "Epoch: 5, train_Loss: 1.626003092236635, val_Loss: 1.4648134734508764\n",
      "Epoch: 6, train_Loss: 1.6247458289309247, val_Loss: 1.464820686483035\n",
      "Epoch: 7, train_Loss: 1.624798654201554, val_Loss: 1.464854166890583\n",
      "Epoch: 8, train_Loss: 1.6247757176073585, val_Loss: 1.4648648078424218\n",
      "Epoch: 9, train_Loss: 1.6247772367989144, val_Loss: 1.4648658807260277\n",
      "Epoch: 10, train_Loss: 1.6247892669061335, val_Loss: 1.4648787548942288\n",
      "Epoch: 11, train_Loss: 1.6247599075480206, val_Loss: 1.4648966615217445\n",
      "Epoch: 12, train_Loss: 1.6233924841008536, val_Loss: 1.4649183532617387\n",
      "Epoch: 13, train_Loss: 1.6234704389804746, val_Loss: 1.4649212225510255\n",
      "Epoch: 14, train_Loss: 1.6234914817461152, val_Loss: 1.4649248005699937\n",
      "Epoch: 15, train_Loss: 1.623509776156123, val_Loss: 1.4649246317626785\n",
      "Epoch: 16, train_Loss: 1.6235116377109435, val_Loss: 1.4649317151438581\n",
      "Epoch: 17, train_Loss: 1.6235118762748997, val_Loss: 1.4649338617812109\n",
      "Epoch: 18, train_Loss: 1.6235103873217978, val_Loss: 1.4649343199103417\n",
      "Epoch: 19, train_Loss: 1.6235072713072707, val_Loss: 1.4649346779732808\n",
      "Epoch: 20, train_Loss: 1.6235055514952033, val_Loss: 1.464937815265934\n",
      "Epoch: 21, train_Loss: 1.6235035550303576, val_Loss: 1.4649380049566283\n",
      "Epoch: 22, train_Loss: 1.6235011906158634, val_Loss: 1.4649393488890934\n",
      "Epoch: 23, train_Loss: 1.6234975471729185, val_Loss: 1.4649396138469668\n",
      "Epoch: 24, train_Loss: 1.6234961626006337, val_Loss: 1.464940153769333\n",
      "Epoch: 25, train_Loss: 1.623496394041108, val_Loss: 1.4649415046629244\n",
      "Epoch: 26, train_Loss: 1.6234948379237477, val_Loss: 1.4649414067720845\n",
      "Epoch: 27, train_Loss: 1.6234945510945669, val_Loss: 1.4649422086068313\n",
      "Epoch: 28, train_Loss: 1.6234932470612409, val_Loss: 1.4649421133264138\n",
      "Epoch: 29, train_Loss: 1.6234929715714803, val_Loss: 1.4649424896623096\n",
      "Epoch: 30, train_Loss: 1.6234917474956048, val_Loss: 1.4649427546201832\n",
      "Epoch: 31, train_Loss: 1.6234915586506449, val_Loss: 1.4649428364134183\n",
      "Epoch: 32, train_Loss: 1.6234914491816266, val_Loss: 1.464943025233972\n",
      "Epoch: 33, train_Loss: 1.6234909669655124, val_Loss: 1.464943198391991\n",
      "Epoch: 34, train_Loss: 1.6234906200955554, val_Loss: 1.464943198391991\n",
      "Epoch: 35, train_Loss: 1.6234904597445232, val_Loss: 1.464943198391991\n",
      "Epoch: 36, train_Loss: 1.623490188470701, val_Loss: 1.4649433850371925\n",
      "Epoch: 37, train_Loss: 1.6234900327717385, val_Loss: 1.4649433850371925\n",
      "Epoch: 38, train_Loss: 1.6234899012053885, val_Loss: 1.4649434729214132\n",
      "Epoch: 39, train_Loss: 1.6234898619535492, val_Loss: 1.4649432901918453\n",
      "Epoch: 40, train_Loss: 1.6234898331688672, val_Loss: 1.4649434729214132\n",
      "Epoch: 41, train_Loss: 1.6234897696390385, val_Loss: 1.4649436404235172\n",
      "Epoch: 42, train_Loss: 1.6234896813950888, val_Loss: 1.4649436404235172\n",
      "Epoch: 43, train_Loss: 1.6234896467953193, val_Loss: 1.4649436404235172\n",
      "Epoch: 44, train_Loss: 1.6234896321122239, val_Loss: 1.4649436404235172\n",
      "Epoch: 45, train_Loss: 1.6234896294954346, val_Loss: 1.4649436404235172\n",
      "Epoch: 46, train_Loss: 1.623489644905416, val_Loss: 1.4649435612407045\n",
      "Epoch: 47, train_Loss: 1.6234896060897084, val_Loss: 1.4649435612407045\n",
      "Epoch: 48, train_Loss: 1.6234896133585675, val_Loss: 1.4649437409247794\n",
      "Epoch: 49, train_Loss: 1.6234895598597643, val_Loss: 1.4649437409247794\n",
      "Epoch: 50, train_Loss: 1.6234895864637886, val_Loss: 1.4649435612407045\n",
      "Epoch: 51, train_Loss: 1.623489555643826, val_Loss: 1.4649436404235172\n",
      "Epoch: 52, train_Loss: 1.6234895525909052, val_Loss: 1.4649436404235172\n",
      "Epoch: 53, train_Loss: 1.6234894925501289, val_Loss: 1.4649436404235172\n",
      "Epoch: 54, train_Loss: 1.623489527731407, val_Loss: 1.4649435612407045\n",
      "Epoch: 55, train_Loss: 1.6234895608774045, val_Loss: 1.4649436404235172\n",
      "Epoch: 56, train_Loss: 1.6234895440136514, val_Loss: 1.4649436404235172\n",
      "Epoch: 57, train_Loss: 1.6234895496833615, val_Loss: 1.4649436404235172\n",
      "Epoch: 58, train_Loss: 1.6234895274406527, val_Loss: 1.4649437409247794\n",
      "Epoch: 59, train_Loss: 1.6234895784680436, val_Loss: 1.4649437409247794\n",
      "Epoch: 60, train_Loss: 1.6234895227885828, val_Loss: 1.4649437409247794\n",
      "Epoch: 61, train_Loss: 1.6234895134844431, val_Loss: 1.4649437409247794\n",
      "Epoch: 62, train_Loss: 1.62348946565535, val_Loss: 1.4649437409247794\n",
      "Epoch: 63, train_Loss: 1.6234893989272234, val_Loss: 1.4649437409247794\n",
      "Epoch: 64, train_Loss: 1.623489500691251, val_Loss: 1.4649437409247794\n",
      "Epoch: 65, train_Loss: 1.6234894594041314, val_Loss: 1.4649436404235172\n",
      "Epoch: 66, train_Loss: 1.623489511013031, val_Loss: 1.4649437409247794\n",
      "Epoch: 67, train_Loss: 1.6234894849905153, val_Loss: 1.4649437409247794\n",
      "Epoch: 68, train_Loss: 1.6234894993828564, val_Loss: 1.4649437409247794\n",
      "Epoch: 69, train_Loss: 1.6234894578049823, val_Loss: 1.464943834029845\n",
      "Epoch: 70, train_Loss: 1.6234894819375945, val_Loss: 1.4649435612407045\n",
      "Epoch: 71, train_Loss: 1.6234895001097422, val_Loss: 1.4649436404235172\n",
      "Epoch: 72, train_Loss: 1.6234894381790625, val_Loss: 1.4649436404235172\n",
      "Epoch: 73, train_Loss: 1.623489491096357, val_Loss: 1.4649436404235172\n",
      "Epoch: 74, train_Loss: 1.6234895303481962, val_Loss: 1.4649436404235172\n",
      "Epoch: 75, train_Loss: 1.6234894954576724, val_Loss: 1.4649436404235172\n",
      "Epoch: 76, train_Loss: 1.6234894890610765, val_Loss: 1.4649436404235172\n",
      "Epoch: 77, train_Loss: 1.6234894714704373, val_Loss: 1.4649436404235172\n",
      "Epoch: 78, train_Loss: 1.623489519735662, val_Loss: 1.4649436404235172\n",
      "Epoch: 79, train_Loss: 1.623489529475933, val_Loss: 1.4649435612407045\n",
      "Epoch: 80, train_Loss: 1.6234894844090066, val_Loss: 1.4649436404235172\n",
      "Epoch: 81, train_Loss: 1.6234894469016936, val_Loss: 1.4649436404235172\n",
      "Epoch: 82, train_Loss: 1.623489467981385, val_Loss: 1.4649436404235172\n",
      "Epoch: 83, train_Loss: 1.6234895239516003, val_Loss: 1.4649436404235172\n",
      "Epoch: 84, train_Loss: 1.6234895091231276, val_Loss: 1.4649436404235172\n",
      "Epoch: 85, train_Loss: 1.623489489642585, val_Loss: 1.4649436404235172\n",
      "Epoch: 86, train_Loss: 1.6234894564965876, val_Loss: 1.4649435612407045\n",
      "Epoch: 87, train_Loss: 1.623489507814733, val_Loss: 1.4649435612407045\n",
      "Epoch: 88, train_Loss: 1.6234895040349262, val_Loss: 1.4649436404235172\n",
      "Epoch: 89, train_Loss: 1.6234894804838227, val_Loss: 1.4649436404235172\n",
      "Epoch: 90, train_Loss: 1.6234895152289692, val_Loss: 1.4649436404235172\n",
      "Epoch: 91, train_Loss: 1.623489519881039, val_Loss: 1.4649436404235172\n",
      "Epoch: 92, train_Loss: 1.623489476704016, val_Loss: 1.4649436404235172\n",
      "Epoch: 93, train_Loss: 1.6234894996736107, val_Loss: 1.4649435612407045\n",
      "Epoch: 94, train_Loss: 1.6234895025811544, val_Loss: 1.4649436404235172\n",
      "Epoch: 95, train_Loss: 1.6234895550623172, val_Loss: 1.4649436404235172\n",
      "Epoch: 96, train_Loss: 1.623489549974116, val_Loss: 1.4649436404235172\n",
      "Epoch: 97, train_Loss: 1.6234895095592592, val_Loss: 1.4649436404235172\n",
      "Epoch: 98, train_Loss: 1.6234895155197238, val_Loss: 1.4649436404235172\n",
      "Epoch: 99, train_Loss: 1.6234894796115595, val_Loss: 1.4649437409247794\n",
      "Epoch: 100, train_Loss: 1.6234895492472299, val_Loss: 1.4649436404235172\n",
      "Epoch: 101, train_Loss: 1.6234895166827412, val_Loss: 1.4649435612407045\n",
      "Epoch: 102, train_Loss: 1.6234895124668027, val_Loss: 1.4649436404235172\n",
      "Epoch: 103, train_Loss: 1.6234895397977132, val_Loss: 1.4649435612407045\n",
      "Epoch: 104, train_Loss: 1.6234894908056026, val_Loss: 1.4649436404235172\n",
      "Epoch: 105, train_Loss: 1.6234894835367435, val_Loss: 1.4649435612407045\n",
      "Epoch: 106, train_Loss: 1.6234895441590287, val_Loss: 1.4649436404235172\n",
      "Epoch: 107, train_Loss: 1.6234894569327192, val_Loss: 1.4649436404235172\n",
      "Epoch: 108, train_Loss: 1.6234894467563163, val_Loss: 1.4649435612407045\n",
      "Epoch: 109, train_Loss: 1.6234894717611918, val_Loss: 1.4649436404235172\n",
      "Epoch: 110, train_Loss: 1.6234894953122954, val_Loss: 1.4649436404235172\n",
      "Epoch: 111, train_Loss: 1.6234894330908614, val_Loss: 1.4649436404235172\n",
      "Epoch: 112, train_Loss: 1.623489438469817, val_Loss: 1.4649436404235172\n",
      "Epoch: 113, train_Loss: 1.6234894460294305, val_Loss: 1.4649436404235172\n",
      "Epoch: 114, train_Loss: 1.623489467981385, val_Loss: 1.4649435612407045\n",
      "Epoch: 115, train_Loss: 1.6234895021450229, val_Loss: 1.4649435612407045\n",
      "Epoch: 116, train_Loss: 1.62348946565535, val_Loss: 1.4649434729214132\n",
      "Epoch: 117, train_Loss: 1.6234895146474606, val_Loss: 1.4649435612407045\n",
      "Epoch: 118, train_Loss: 1.6234895175550041, val_Loss: 1.4649435612407045\n",
      "Epoch: 119, train_Loss: 1.6234895354363976, val_Loss: 1.4649435612407045\n",
      "Epoch: 120, train_Loss: 1.623489540524599, val_Loss: 1.4649435612407045\n",
      "Epoch: 121, train_Loss: 1.6234895608774045, val_Loss: 1.4649436404235172\n",
      "Epoch: 122, train_Loss: 1.6234895019996456, val_Loss: 1.4649436404235172\n",
      "Epoch: 123, train_Loss: 1.6234894969114444, val_Loss: 1.4649437409247794\n",
      "Epoch: 124, train_Loss: 1.6234895073786015, val_Loss: 1.464943834029845\n",
      "Epoch: 125, train_Loss: 1.6234895361632835, val_Loss: 1.4649436404235172\n",
      "Epoch: 126, train_Loss: 1.6234894516991405, val_Loss: 1.4649436404235172\n",
      "Epoch: 127, train_Loss: 1.6234895022904001, val_Loss: 1.4649436404235172\n",
      "Epoch: 128, train_Loss: 1.6234895057794525, val_Loss: 1.4649436404235172\n",
      "Epoch: 129, train_Loss: 1.6234895726529563, val_Loss: 1.4649434729214132\n",
      "Epoch: 130, train_Loss: 1.6234895607320274, val_Loss: 1.4649435612407045\n",
      "Epoch: 131, train_Loss: 1.6234895805033243, val_Loss: 1.4649436404235172\n",
      "Epoch: 132, train_Loss: 1.6234895114491625, val_Loss: 1.4649434729214132\n",
      "Epoch: 133, train_Loss: 1.6234895203171706, val_Loss: 1.4649436404235172\n",
      "Epoch: 134, train_Loss: 1.6234895825386046, val_Loss: 1.4649436404235172\n",
      "Epoch: 135, train_Loss: 1.6234895307843278, val_Loss: 1.4649435612407045\n",
      "Epoch: 136, train_Loss: 1.6234895095592592, val_Loss: 1.4649435612407045\n",
      "Epoch: 137, train_Loss: 1.6234894903694712, val_Loss: 1.4649435612407045\n",
      "Epoch: 138, train_Loss: 1.6234894787392966, val_Loss: 1.4649435612407045\n",
      "Epoch: 139, train_Loss: 1.6234895775957805, val_Loss: 1.4649435612407045\n",
      "Epoch: 140, train_Loss: 1.6234895143567063, val_Loss: 1.4649435612407045\n",
      "Epoch: 141, train_Loss: 1.623489563494194, val_Loss: 1.4649437409247794\n",
      "Epoch: 142, train_Loss: 1.6234895063609611, val_Loss: 1.4649436404235172\n",
      "Epoch: 143, train_Loss: 1.6234895287490472, val_Loss: 1.4649436404235172\n",
      "Epoch: 144, train_Loss: 1.6234895302028192, val_Loss: 1.4649436404235172\n",
      "Epoch: 145, train_Loss: 1.623489516537364, val_Loss: 1.4649436404235172\n",
      "Epoch: 146, train_Loss: 1.6234894797569368, val_Loss: 1.4649436404235172\n",
      "Epoch: 147, train_Loss: 1.6234895230793371, val_Loss: 1.4649437409247794\n",
      "Epoch: 148, train_Loss: 1.6234894708889287, val_Loss: 1.4649437409247794\n",
      "Epoch: 149, train_Loss: 1.6234894736510952, val_Loss: 1.4649437409247794\n",
      "Epoch: 150, train_Loss: 1.6234894881888133, val_Loss: 1.4649437409247794\n",
      "Epoch: 151, train_Loss: 1.6234894817922174, val_Loss: 1.4649437409247794\n",
      "Epoch: 152, train_Loss: 1.623489471906569, val_Loss: 1.4649437409247794\n",
      "Epoch: 153, train_Loss: 1.623489476704016, val_Loss: 1.4649437409247794\n",
      "Epoch: 154, train_Loss: 1.6234895147928377, val_Loss: 1.4649437409247794\n",
      "Epoch: 155, train_Loss: 1.6234895547715629, val_Loss: 1.464943834029845\n",
      "Epoch: 156, train_Loss: 1.6234895648025884, val_Loss: 1.464943834029845\n",
      "Epoch: 157, train_Loss: 1.623489535581775, val_Loss: 1.464943834029845\n",
      "Epoch: 158, train_Loss: 1.6234895472119495, val_Loss: 1.464943834029845\n",
      "Epoch: 159, train_Loss: 1.623489480774577, val_Loss: 1.4649437409247794\n",
      "Epoch: 160, train_Loss: 1.6234894970568214, val_Loss: 1.4649437409247794\n",
      "Epoch: 161, train_Loss: 1.623489499092102, val_Loss: 1.4649437409247794\n",
      "Epoch: 162, train_Loss: 1.6234895187180216, val_Loss: 1.4649437409247794\n",
      "Epoch: 163, train_Loss: 1.6234895049071894, val_Loss: 1.4649437409247794\n",
      "Epoch: 164, train_Loss: 1.6234894833913665, val_Loss: 1.4649437409247794\n",
      "Epoch: 165, train_Loss: 1.6234895113037853, val_Loss: 1.4649436404235172\n",
      "Epoch: 166, train_Loss: 1.6234895118852941, val_Loss: 1.4649436404235172\n",
      "Epoch: 167, train_Loss: 1.6234895265683895, val_Loss: 1.4649436404235172\n",
      "Epoch: 168, train_Loss: 1.6234895153743465, val_Loss: 1.4649436404235172\n",
      "Epoch: 169, train_Loss: 1.6234894746687354, val_Loss: 1.4649435612407045\n",
      "Epoch: 170, train_Loss: 1.6234895370355467, val_Loss: 1.4649436404235172\n",
      "Epoch: 171, train_Loss: 1.62348953325574, val_Loss: 1.4649436404235172\n",
      "Epoch: 172, train_Loss: 1.6234894815014629, val_Loss: 1.4649435612407045\n",
      "Epoch: 173, train_Loss: 1.6234894794661825, val_Loss: 1.4649436404235172\n",
      "Epoch: 174, train_Loss: 1.6234894470470707, val_Loss: 1.4649437409247794\n",
      "Epoch: 175, train_Loss: 1.6234894562058333, val_Loss: 1.4649435612407045\n",
      "Epoch: 176, train_Loss: 1.6234895139205747, val_Loss: 1.4649436404235172\n",
      "Epoch: 177, train_Loss: 1.6234894844090066, val_Loss: 1.4649436404235172\n",
      "Epoch: 178, train_Loss: 1.6234894937131463, val_Loss: 1.4649437409247794\n",
      "Epoch: 179, train_Loss: 1.6234895210440565, val_Loss: 1.4649437409247794\n",
      "Epoch: 180, train_Loss: 1.6234894755409985, val_Loss: 1.464943834029845\n",
      "Epoch: 181, train_Loss: 1.6234895246784862, val_Loss: 1.4649435612407045\n",
      "Epoch: 182, train_Loss: 1.6234895418329938, val_Loss: 1.4649436404235172\n",
      "Epoch: 183, train_Loss: 1.6234894956030497, val_Loss: 1.4649434729214132\n",
      "Epoch: 184, train_Loss: 1.6234894960391812, val_Loss: 1.4649434729214132\n",
      "Epoch: 185, train_Loss: 1.6234895602958959, val_Loss: 1.4649434729214132\n",
      "Epoch: 186, train_Loss: 1.6234895272952754, val_Loss: 1.4649435612407045\n",
      "Epoch: 187, train_Loss: 1.6234895374716782, val_Loss: 1.4649435612407045\n",
      "Epoch: 188, train_Loss: 1.6234895493926071, val_Loss: 1.4649435612407045\n",
      "Epoch: 189, train_Loss: 1.623489556370712, val_Loss: 1.4649435612407045\n",
      "Epoch: 190, train_Loss: 1.6234895432867655, val_Loss: 1.4649434729214132\n",
      "Epoch: 191, train_Loss: 1.6234895235154687, val_Loss: 1.4649434729214132\n",
      "Epoch: 192, train_Loss: 1.6234895774504035, val_Loss: 1.4649436404235172\n",
      "Epoch: 193, train_Loss: 1.6234895633488167, val_Loss: 1.4649436404235172\n",
      "Epoch: 194, train_Loss: 1.6234895344187574, val_Loss: 1.4649435612407045\n",
      "Epoch: 195, train_Loss: 1.6234895815209645, val_Loss: 1.4649434729214132\n",
      "Epoch: 196, train_Loss: 1.6234896167022426, val_Loss: 1.4649436404235172\n",
      "Epoch: 197, train_Loss: 1.6234896184467689, val_Loss: 1.464943834029845\n",
      "Epoch: 198, train_Loss: 1.623489525986881, val_Loss: 1.464943834029845\n",
      "Epoch: 199, train_Loss: 1.62348948629891, val_Loss: 1.4649439171282914\n",
      "Epoch: 200, train_Loss: 1.623489483100612, val_Loss: 1.4649436404235172\n",
      "Epoch: 201, train_Loss: 1.6234895411061077, val_Loss: 1.4649436404235172\n",
      "Epoch: 202, train_Loss: 1.6234895376170553, val_Loss: 1.4649436404235172\n",
      "Epoch: 203, train_Loss: 1.6234896148123392, val_Loss: 1.4649436404235172\n",
      "Epoch: 204, train_Loss: 1.6234895853007711, val_Loss: 1.464943834029845\n",
      "Epoch: 205, train_Loss: 1.6234894669637447, val_Loss: 1.4649436404235172\n",
      "Epoch: 206, train_Loss: 1.6234894979290846, val_Loss: 1.4649439171282914\n",
      "Epoch: 207, train_Loss: 1.6234894703074199, val_Loss: 1.464943834029845\n",
      "Epoch: 208, train_Loss: 1.6234894332362384, val_Loss: 1.464943834029845\n",
      "Epoch: 209, train_Loss: 1.623489467981385, val_Loss: 1.464943834029845\n",
      "Epoch: 210, train_Loss: 1.6234894685628938, val_Loss: 1.464943834029845\n",
      "Epoch: 211, train_Loss: 1.6234894470470707, val_Loss: 1.464943834029845\n",
      "Epoch: 212, train_Loss: 1.6234894152094679, val_Loss: 1.464943834029845\n",
      "Epoch: 213, train_Loss: 1.6234894713250603, val_Loss: 1.464943834029845\n",
      "Epoch: 214, train_Loss: 1.623489516537364, val_Loss: 1.4649437409247794\n",
      "Epoch: 215, train_Loss: 1.6234895137751975, val_Loss: 1.4649436404235172\n",
      "Epoch: 216, train_Loss: 1.6234895459035548, val_Loss: 1.4649436404235172\n",
      "Epoch: 217, train_Loss: 1.6234895797764384, val_Loss: 1.4649436404235172\n",
      "Epoch: 218, train_Loss: 1.6234895364540378, val_Loss: 1.4649436404235172\n",
      "Epoch: 219, train_Loss: 1.6234894800476911, val_Loss: 1.4649436404235172\n",
      "Epoch: 220, train_Loss: 1.6234895397977132, val_Loss: 1.4649435612407045\n",
      "Epoch: 221, train_Loss: 1.6234894956030497, val_Loss: 1.4649435612407045\n",
      "Epoch: 222, train_Loss: 1.623489458386491, val_Loss: 1.4649436404235172\n",
      "Epoch: 223, train_Loss: 1.6234894969114444, val_Loss: 1.4649435612407045\n",
      "Epoch: 224, train_Loss: 1.6234895242423546, val_Loss: 1.4649436404235172\n",
      "Epoch: 225, train_Loss: 1.6234895118852941, val_Loss: 1.4649436404235172\n",
      "Epoch: 226, train_Loss: 1.6234895274406527, val_Loss: 1.4649436404235172\n",
      "Epoch: 227, train_Loss: 1.623489489497208, val_Loss: 1.4649436404235172\n",
      "Epoch: 228, train_Loss: 1.623489467836008, val_Loss: 1.4649436404235172\n",
      "Epoch: 229, train_Loss: 1.6234895002551195, val_Loss: 1.4649435612407045\n",
      "Epoch: 230, train_Loss: 1.6234895153743465, val_Loss: 1.4649437409247794\n",
      "Epoch: 231, train_Loss: 1.6234894707435514, val_Loss: 1.4649437409247794\n",
      "Epoch: 232, train_Loss: 1.6234894852812698, val_Loss: 1.4649437409247794\n",
      "Epoch: 233, train_Loss: 1.6234894745233581, val_Loss: 1.4649437409247794\n",
      "Epoch: 234, train_Loss: 1.6234894788846737, val_Loss: 1.4649437409247794\n",
      "Epoch: 235, train_Loss: 1.6234894701620428, val_Loss: 1.4649437409247794\n",
      "Epoch: 236, train_Loss: 1.6234894884795676, val_Loss: 1.464943834029845\n",
      "Epoch: 237, train_Loss: 1.6234894714704373, val_Loss: 1.464943834029845\n",
      "Epoch: 238, train_Loss: 1.6234894701620428, val_Loss: 1.4649437409247794\n",
      "Epoch: 239, train_Loss: 1.623489527731407, val_Loss: 1.4649437409247794\n",
      "Epoch: 240, train_Loss: 1.6234895249692405, val_Loss: 1.4649437409247794\n",
      "Epoch: 241, train_Loss: 1.6234895127575573, val_Loss: 1.4649437409247794\n",
      "Epoch: 242, train_Loss: 1.6234895185726446, val_Loss: 1.4649437409247794\n",
      "Epoch: 243, train_Loss: 1.6234894756863756, val_Loss: 1.4649437409247794\n",
      "Epoch: 244, train_Loss: 1.623489510286145, val_Loss: 1.4649437409247794\n",
      "Epoch: 245, train_Loss: 1.6234894922593746, val_Loss: 1.4649436404235172\n",
      "Epoch: 246, train_Loss: 1.6234895509917562, val_Loss: 1.4649437409247794\n",
      "Epoch: 247, train_Loss: 1.6234894832459892, val_Loss: 1.464943834029845\n",
      "Epoch: 248, train_Loss: 1.6234894969114444, val_Loss: 1.464943834029845\n",
      "Epoch: 249, train_Loss: 1.6234895118852941, val_Loss: 1.464943834029845\n",
      "Epoch: 250, train_Loss: 1.6234894769947703, val_Loss: 1.4649437409247794\n",
      "Epoch: 251, train_Loss: 1.6234895060702068, val_Loss: 1.4649437409247794\n",
      "Epoch: 252, train_Loss: 1.623489465509973, val_Loss: 1.4649436404235172\n",
      "Epoch: 253, train_Loss: 1.6234894828098576, val_Loss: 1.4649436404235172\n",
      "Epoch: 254, train_Loss: 1.6234894729242093, val_Loss: 1.4649436404235172\n",
      "Epoch: 255, train_Loss: 1.6234894864442873, val_Loss: 1.4649437409247794\n",
      "Epoch: 256, train_Loss: 1.6234895065063384, val_Loss: 1.4649436404235172\n",
      "Epoch: 257, train_Loss: 1.6234895255507493, val_Loss: 1.4649436404235172\n",
      "Epoch: 258, train_Loss: 1.6234894988013477, val_Loss: 1.4649436404235172\n",
      "Epoch: 259, train_Loss: 1.623489519881039, val_Loss: 1.4649436404235172\n",
      "Epoch: 260, train_Loss: 1.6234894607125259, val_Loss: 1.4649436404235172\n",
      "Epoch: 261, train_Loss: 1.6234895397977132, val_Loss: 1.4649437409247794\n",
      "Epoch: 262, train_Loss: 1.6234895065063384, val_Loss: 1.4649436404235172\n",
      "Epoch: 263, train_Loss: 1.6234895166827412, val_Loss: 1.4649436404235172\n",
      "Epoch: 264, train_Loss: 1.6234895059248295, val_Loss: 1.4649436404235172\n",
      "Epoch: 265, train_Loss: 1.6234895825386046, val_Loss: 1.4649437409247794\n",
      "Epoch: 266, train_Loss: 1.6234895335464943, val_Loss: 1.4649437409247794\n",
      "Epoch: 267, train_Loss: 1.6234894969114444, val_Loss: 1.464943834029845\n",
      "Epoch: 268, train_Loss: 1.6234895129029343, val_Loss: 1.4649436404235172\n",
      "Epoch: 269, train_Loss: 1.6234895022904001, val_Loss: 1.4649437409247794\n",
      "Epoch: 270, train_Loss: 1.6234894835367435, val_Loss: 1.4649437409247794\n",
      "Epoch: 271, train_Loss: 1.6234894141918275, val_Loss: 1.4649436404235172\n",
      "Epoch: 272, train_Loss: 1.6234895773050262, val_Loss: 1.4649436404235172\n",
      "Epoch: 273, train_Loss: 1.623489547793458, val_Loss: 1.4649437409247794\n",
      "Epoch: 274, train_Loss: 1.623489559714387, val_Loss: 1.4649436404235172\n",
      "Epoch: 275, train_Loss: 1.6234895807940786, val_Loss: 1.4649436404235172\n",
      "Epoch: 276, train_Loss: 1.6234895466304406, val_Loss: 1.4649435612407045\n",
      "Epoch: 277, train_Loss: 1.6234895104315223, val_Loss: 1.4649436404235172\n",
      "Epoch: 278, train_Loss: 1.6234894532982895, val_Loss: 1.4649435612407045\n",
      "Epoch: 279, train_Loss: 1.6234895063609611, val_Loss: 1.4649436404235172\n",
      "Epoch: 280, train_Loss: 1.623489435998405, val_Loss: 1.4649436404235172\n",
      "Epoch: 281, train_Loss: 1.623489457659605, val_Loss: 1.4649437409247794\n",
      "Epoch: 282, train_Loss: 1.6234894698712883, val_Loss: 1.4649437409247794\n",
      "Epoch: 283, train_Loss: 1.6234894953122954, val_Loss: 1.4649436404235172\n",
      "Epoch: 284, train_Loss: 1.6234895226432056, val_Loss: 1.4649436404235172\n",
      "Epoch: 285, train_Loss: 1.6234895002551195, val_Loss: 1.4649436404235172\n",
      "Epoch: 286, train_Loss: 1.623489478448542, val_Loss: 1.4649436404235172\n",
      "Epoch: 287, train_Loss: 1.6234894386151941, val_Loss: 1.4649436404235172\n",
      "Epoch: 288, train_Loss: 1.6234894826644803, val_Loss: 1.4649436404235172\n",
      "Epoch: 289, train_Loss: 1.623489491096357, val_Loss: 1.4649437409247794\n",
      "Epoch: 290, train_Loss: 1.6234894704527971, val_Loss: 1.4649436404235172\n",
      "Epoch: 291, train_Loss: 1.6234894884795676, val_Loss: 1.4649437409247794\n",
      "Epoch: 292, train_Loss: 1.623489547648081, val_Loss: 1.464943834029845\n",
      "Epoch: 293, train_Loss: 1.623489525986881, val_Loss: 1.464943834029845\n",
      "Epoch: 294, train_Loss: 1.6234894762678844, val_Loss: 1.464943834029845\n",
      "Epoch: 295, train_Loss: 1.6234894673998763, val_Loss: 1.4649436404235172\n",
      "Epoch: 296, train_Loss: 1.6234894868804188, val_Loss: 1.464943834029845\n",
      "Epoch: 297, train_Loss: 1.6234894646377098, val_Loss: 1.4649436404235172\n",
      "Epoch: 298, train_Loss: 1.6234894832459892, val_Loss: 1.4649436404235172\n",
      "Epoch: 299, train_Loss: 1.6234894953122954, val_Loss: 1.4649437409247794\n",
      "Epoch: 300, train_Loss: 1.6234894477739568, val_Loss: 1.464943834029845\n"
     ]
    }
   ],
   "source": [
    "model = LSTM_Predictor(dataset)\n",
    "model = model.to(device)\n",
    "train_losses, val_losses = train(dataset, train_dataset, model)"
   ]
  },
  {
   "cell_type": "code",
   "execution_count": 78,
   "id": "cc12867b",
   "metadata": {},
   "outputs": [
    {
     "data": {
      "image/png": "[encoded data removed]",
      "text/plain": [
       "<Figure size 1200x400 with 2 Axes>"
      ]
     },
     "metadata": {},
     "output_type": "display_data"
    }
   ],
   "source": [
    "import matplotlib.pyplot as plt\n",
    "\n",
    "fig, axes = plt.subplots(nrows=1, ncols=2, figsize=(12,4))\n",
    "axes[0].plot(train_losses, label=\"train_Loss\")\n",
    "axes[0].plot(val_losses, label=\"val_Loss\")\n",
    "axes[0].set_title(\"loss of \" + col_name)\n",
    "axes[0].grid()\n",
    "axes[0].set_xlabel(\"epoch\")\n",
    "axes[0].set_ylabel(\"MSE\")\n",
    "axes[0].legend()\n",
    "\n",
    "\n",
    "axes[1].plot(train_losses, label=\"train_Loss\")\n",
    "axes[1].plot(val_losses, label=\"val_Loss\")\n",
    "axes[1].set_title(\"loss of \" + col_name)\n",
    "axes[1].grid()\n",
    "axes[1].set_yscale('log')\n",
    "axes[1].set_xlabel(\"epoch\")\n",
    "axes[1].set_ylabel(\"MSE\")\n",
    "axes[1].legend()\n",
    "\n",
    "plt.savefig(\"output/\" + col_name + \"/graph_losses_\" + col_name + \".png\")\n",
    "wandb.log({\"graph_losses_\" + col_name: wandb.Image(\"output/\" + col_name + \"/graph_losses_\" + col_name + \".png\")})\n",
    "\n",
    "plt.show()"
   ]
  },
  {
   "cell_type": "code",
   "execution_count": 79,
   "id": "91fdc21a",
   "metadata": {},
   "outputs": [],
   "source": [
    "def test(dataset, test_dataset, model):\n",
    "    model.eval()\n",
    "    device = torch.device('cuda:0' if torch.cuda.is_available() else 'cpu')\n",
    "    \n",
    "    batch_size = 1\n",
    "    \n",
    "    \n",
    "    label = []\n",
    "    output = []\n",
    "    \n",
    "    \n",
    "    test_dataloader = torch.utils.data.DataLoader(test_dataset, batch_size=batch_size, drop_last=True)\n",
    "    \n",
    "    criterion = torch.nn.L1Loss()\n",
    "    \n",
    "    total_loss = 0\n",
    "    state_h, state_c = model.init_state(batch_size)\n",
    "    state_h = state_h.to(device)\n",
    "    state_c = state_c.to(device)\n",
    "    \n",
    "    for batch, (x, y) in enumerate(test_dataloader):\n",
    "    \n",
    "        y_pred, (state_h, state_c) = model(x.to(device), (state_h, state_c))\n",
    "        y_pred_permute = torch.permute(y_pred, (2, 1, 0))    \n",
    "        loss = criterion(y_pred_permute[0][dataset.max_length-1], y.to(device))\n",
    "        total_loss += loss.item()\n",
    "\n",
    "        state_h = state_h.detach()\n",
    "        state_c = state_c.detach()\n",
    "        \n",
    "        \n",
    "        label.append(y.cpu().detach().numpy())\n",
    "        output.append(y_pred_permute[0, dataset.max_length-1].cpu().detach().numpy())\n",
    "        \n",
    "    \n",
    "    average_total_loss = total_loss / len(test_dataloader)\n",
    "    \n",
    "    wandb.summary['test_Loss'] = average_total_loss\n",
    "    \n",
    "    return average_total_loss, label, output\n",
    "\n",
    "        "
   ]
  },
  {
   "cell_type": "code",
   "execution_count": 80,
   "id": "ce14c760",
   "metadata": {},
   "outputs": [
    {
     "name": "stdout",
     "output_type": "stream",
     "text": [
      "test_Loss: 1.225\n"
     ]
    }
   ],
   "source": [
    "average_total_loss, label, output = test(dataset, test_dataset, model)\n",
    "\n",
    "print(\"test_Loss: {:.3f}\".format(average_total_loss))"
   ]
  },
  {
   "cell_type": "code",
   "execution_count": 81,
   "id": "4e3172f9",
   "metadata": {},
   "outputs": [
    {
     "data": {
      "image/png": "[encoded data removed]",
      "text/plain": [
       "<Figure size 640x480 with 1 Axes>"
      ]
     },
     "metadata": {},
     "output_type": "display_data"
    }
   ],
   "source": [
    "#intensityの時は次の２行を実行する\n",
    "if col_name == \"intensity\":  \n",
    "    label_y = [10**i for i in label]\n",
    "    output_y = [10**i for i in output]\n",
    "\n",
    "\n",
    "\n",
    "import matplotlib.pyplot as plt\n",
    "plt.scatter(label, output, s=1)\n",
    "plt.title(col_name)\n",
    "plt.xlabel(\"labels\")\n",
    "plt.ylabel(\"output\")\n",
    "plt.grid(True)\n",
    "\n",
    "plt.savefig(\"output/\" + col_name + \"/scatter_plot_\" + col_name + \".png\")\n",
    "wandb.log({\"scatter_plot_\" + col_name: wandb.Image(\"output/\" + col_name + \"/scatter_plot_\" + col_name + \".png\")})\n",
    "\n",
    "plt.show()"
   ]
  },
  {
   "cell_type": "code",
   "execution_count": 82,
   "id": "23be87fc",
   "metadata": {},
   "outputs": [
    {
     "data": {
      "text/plain": [
       "<wandb.sdk.wandb_artifacts.Artifact at 0x7fed46d021a0>"
      ]
     },
     "execution_count": 82,
     "metadata": {},
     "output_type": "execute_result"
    }
   ],
   "source": [
    "torch.save(model.state_dict(), \"model/\" + col_name +  \"/model_weight_\" + col_name + \".pth\")\n",
    "artifact = wandb.Artifact('model', type='model')\n",
    "artifact.add_file(\"model/\" + col_name + \"/model_weight_\" + col_name + \".pth\")\n",
    "wandb.log_artifact(artifact)"
   ]
  },
  {
   "cell_type": "code",
   "execution_count": 83,
   "id": "6cf0b89d",
   "metadata": {},
   "outputs": [
    {
     "data": {
      "text/html": [
       "Waiting for W&B process to finish... <strong style=\"color:green\">(success).</strong>"
      ],
      "text/plain": [
       "<IPython.core.display.HTML object>"
      ]
     },
     "metadata": {},
     "output_type": "display_data"
    },
    {
     "data": {
      "text/html": [
       "<style>\n",
       "    table.wandb td:nth-child(1) { padding: 0 10px; text-align: left ; width: auto;} td:nth-child(2) {text-align: left ; width: 100%}\n",
       "    .wandb-row { display: flex; flex-direction: row; flex-wrap: wrap; justify-content: flex-start; width: 100% }\n",
       "    .wandb-col { display: flex; flex-direction: column; flex-basis: 100%; flex: 1; padding: 10px; }\n",
       "    </style>\n",
       "<div class=\"wandb-row\"><div class=\"wandb-col\"><h3>Run history:</h3><br/><table class=\"wandb\"><tr><td>train_Loss</td><td>█▄▁▁▁▁▁▁▁▁▁▁▁▁▁▁▁▁▁▁▁▁▁▁▁▁▁▁▁▁▁▁▁▁▁▁▁▁▁▁</td></tr><tr><td>val_Loss</td><td>▁▅██████████████████████████████████████</td></tr></table><br/></div><div class=\"wandb-col\"><h3>Run summary:</h3><br/><table class=\"wandb\"><tr><td>test_Loss</td><td>1.22485</td></tr><tr><td>train_Loss</td><td>1.62349</td></tr><tr><td>val_Loss</td><td>1.46494</td></tr></table><br/></div></div>"
      ],
      "text/plain": [
       "<IPython.core.display.HTML object>"
      ]
     },
     "metadata": {},
     "output_type": "display_data"
    },
    {
     "data": {
      "text/html": [
       "Synced <strong style=\"color:#cdcd00\">LSTM</strong>: <a href=\"https://wandb.ai/asidaka/LSTM%E3%81%AB%E3%82%88%E3%82%8BDecomposition_Energy%E3%81%AE%E4%BA%88%E6%B8%AC/runs/p1ddwm0r\" target=\"_blank\">https://wandb.ai/asidaka/LSTM%E3%81%AB%E3%82%88%E3%82%8BDecomposition_Energy%E3%81%AE%E4%BA%88%E6%B8%AC/runs/p1ddwm0r</a><br/>Synced 6 W&B file(s), 2 media file(s), 1 artifact file(s) and 0 other file(s)"
      ],
      "text/plain": [
       "<IPython.core.display.HTML object>"
      ]
     },
     "metadata": {},
     "output_type": "display_data"
    },
    {
     "data": {
      "text/html": [
       "Find logs at: <code>./wandb/run-20230105_133826-p1ddwm0r/logs</code>"
      ],
      "text/plain": [
       "<IPython.core.display.HTML object>"
      ]
     },
     "metadata": {},
     "output_type": "display_data"
    }
   ],
   "source": [
    "wandb.finish()"
   ]
  }
 ],
 "metadata": {
  "kernelspec": {
   "display_name": "pytorch",
   "language": "python",
   "name": "python3"
  },
  "language_info": {
   "codemirror_mode": {
    "name": "ipython",
    "version": 3
   },
   "file_extension": ".py",
   "mimetype": "text/x-python",
   "name": "python",
   "nbconvert_exporter": "python",
   "pygments_lexer": "ipython3",
   "version": "3.10.6"
  },
  "vscode": {
   "interpreter": {
    "hash": "f18a3795fe5cb6a973482da1273789e92c21cec72867792a35f0dcfcd5bea518"
   }
  }
 },
 "nbformat": 4,
 "nbformat_minor": 5
}
